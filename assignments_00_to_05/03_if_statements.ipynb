{
  "nbformat": 4,
  "nbformat_minor": 0,
  "metadata": {
    "colab": {
      "provenance": []
    },
    "kernelspec": {
      "name": "python3",
      "display_name": "Python 3"
    },
    "language_info": {
      "name": "python"
    }
  },
  "cells": [
    {
      "cell_type": "markdown",
      "source": [
        "# **01_print_events**"
      ],
      "metadata": {
        "id": "nmu8ZzEG3LyG"
      }
    },
    {
      "cell_type": "code",
      "source": [
        "print(\"01_print_events\")\n",
        "\n",
        "def even_num():\n",
        "\n",
        "  for num in range(20):\n",
        "    print(num * 2)\n",
        "\n",
        "\n",
        "if __name__ == \"__main__\":\n",
        "  even_num()"
      ],
      "metadata": {
        "colab": {
          "base_uri": "https://localhost:8080/"
        },
        "id": "rsTUU8xU3PAh",
        "outputId": "3636cbb6-e5f8-469a-ac15-1a6aa0886d78"
      },
      "execution_count": null,
      "outputs": [
        {
          "output_type": "stream",
          "name": "stdout",
          "text": [
            "01_print_events\n",
            "0\n",
            "2\n",
            "4\n",
            "6\n",
            "8\n",
            "10\n",
            "12\n",
            "14\n",
            "16\n",
            "18\n",
            "20\n",
            "22\n",
            "24\n",
            "26\n",
            "28\n",
            "30\n",
            "32\n",
            "34\n",
            "36\n",
            "38\n"
          ]
        }
      ]
    },
    {
      "cell_type": "markdown",
      "source": [
        "# **02_international_voting_age**"
      ],
      "metadata": {
        "id": "Gw30quFG31X8"
      }
    },
    {
      "cell_type": "code",
      "source": [
        "print(\"02_international_voting_age\")\n",
        "\n",
        "peturksbouipo_age:int = 16\n",
        "stanlau_age:int = 25\n",
        "mayengua_age :int= 48\n",
        "\n",
        "def get_even_num():\n",
        "  user_age = int(input(\"How old are you?\"))\n",
        "\n",
        "  if user_age >= peturksbouipo_age:\n",
        "    print(\"You can vote in Peturksbouipo where the voting age is \" + str(peturksbouipo_age) + \".\" )\n",
        "  else:\n",
        "    print(\"You can not vote in Peturksbouipo where the voting age is \" + str(peturksbouipo_age) + \".\")\n",
        "\n",
        "\n",
        "  if user_age >= stanlau_age:\n",
        "    print(\"You can vote in Stanlau where the voting age is \" + str(stanlau_age) + \".\" )\n",
        "\n",
        "  else:\n",
        "    print(\"You can not vote in Stanlau where the voting age is \" + str(stanlau_age) + \".\")\n",
        "\n",
        "\n",
        "  if user_age >= mayengua_age:\n",
        "    print(\"You can vote in Mayengua where the voting age is \" + str(mayengua_age) + \".\" )\n",
        "  else:\n",
        "    print(\"You can not vote in Mayengua where the voting age is \" + str(mayengua_age) + \".\")\n",
        "\n",
        "\n",
        "if __name__ == \"__main__\":\n",
        "  get_even_num()"
      ],
      "metadata": {
        "colab": {
          "base_uri": "https://localhost:8080/"
        },
        "id": "eGwRblgG373F",
        "outputId": "48883ae8-117b-44e0-e2c5-e69955ad1acc"
      },
      "execution_count": null,
      "outputs": [
        {
          "output_type": "stream",
          "name": "stdout",
          "text": [
            "02_international_voting_age\n",
            "How old are you?18\n",
            "You can vote in Peturksbouipo where the voting age is 16.\n",
            "You can not vote in Stanlau where the voting age is 25.\n",
            "You can not vote in Mayengua where the voting age is 48.\n"
          ]
        }
      ]
    },
    {
      "cell_type": "markdown",
      "source": [
        "# **03_leap_year**"
      ],
      "metadata": {
        "id": "0FG1_LlC8zoe"
      }
    },
    {
      "cell_type": "code",
      "source": [
        "print (\"03_leap_year\")\n",
        "\n",
        "def leap_year():\n",
        "\n",
        "  year :int = int(input(\"Please input a year: \"))\n",
        "\n",
        "  if year % 4 == 0:\n",
        "    if year % 100 == 0 :\n",
        "      if year % 400 == 0:\n",
        "        print(str(year) + \" is a leap year.\")\n",
        "      else:\n",
        "        print(str(year) + \" is not a leap year.\")\n",
        "    else:\n",
        "      print(str(year) + \" is a leap year.\")\n",
        "  else:\n",
        "      print(str(year) + \" is not a leap year.\")\n",
        "\n",
        "\n",
        "if __name__ == \"__main__\":\n",
        "  leap_year()"
      ],
      "metadata": {
        "id": "xETByinm89QW",
        "colab": {
          "base_uri": "https://localhost:8080/"
        },
        "outputId": "5c7a920d-085c-4877-ab3f-523a67e934da"
      },
      "execution_count": null,
      "outputs": [
        {
          "output_type": "stream",
          "name": "stdout",
          "text": [
            "03_leap_year\n",
            "Please input a year: 2024\n",
            "2024 is a leap year.\n"
          ]
        }
      ]
    },
    {
      "cell_type": "markdown",
      "source": [
        "# **04_tall_enough_to_ride**"
      ],
      "metadata": {
        "id": "1TrTuUg_G3uG"
      }
    },
    {
      "cell_type": "code",
      "source": [
        "print(\"04_tall_enough_to_ride\")\n",
        "\n",
        "MINIMUM_HEIGHT:int = 50\n",
        "\n",
        "def minimum_height():\n",
        "\n",
        "    height = float(input(\"How tall are you? \"))\n",
        "\n",
        "    if height >= MINIMUM_HEIGHT:\n",
        "      print(\"You're tall enough to ride.\")\n",
        "    else:\n",
        "      print(\"You're not tall enough to ride, but maybe next year!\")\n",
        "\n",
        "if __name__ == \"__main__\":\n",
        "  minimum_height()"
      ],
      "metadata": {
        "colab": {
          "base_uri": "https://localhost:8080/"
        },
        "id": "oZ7qqmi-G9cH",
        "outputId": "58d155f3-c296-4c1a-9998-fd690b96fd43"
      },
      "execution_count": null,
      "outputs": [
        {
          "output_type": "stream",
          "name": "stdout",
          "text": [
            "04_tall_enough_to_ride\n",
            "How tall are you? 48\n",
            "You're not tall enough to ride, but maybe next year!\n"
          ]
        }
      ]
    },
    {
      "cell_type": "markdown",
      "source": [
        "# **05_random_numbers**"
      ],
      "metadata": {
        "id": "K0sT0DgaL-ly"
      }
    },
    {
      "cell_type": "code",
      "source": [
        "print(\"05_random_numbers\")\n",
        "import random\n",
        "\n",
        "\n",
        "N_NUMBERS:int = 10\n",
        "MIN_NUM:int = 1\n",
        "MAX_NUM:int = 100\n",
        "\n",
        "def random_numbers():\n",
        "\n",
        "  for _ in range(N_NUMBERS):\n",
        "    print(random.randint(MIN_NUM, MAX_NUM))\n",
        "\n",
        "if __name__ == \"__main__\":\n",
        "  random_numbers()\n",
        "\n",
        "\n",
        "\n",
        "\n"
      ],
      "metadata": {
        "id": "n1n1RLrYMG0B",
        "colab": {
          "base_uri": "https://localhost:8080/"
        },
        "outputId": "0741856c-3547-468e-b119-f02b1dd7f1c7"
      },
      "execution_count": 23,
      "outputs": [
        {
          "output_type": "stream",
          "name": "stdout",
          "text": [
            "05_random_numbers\n",
            "98\n",
            "28\n",
            "60\n",
            "15\n",
            "71\n",
            "22\n",
            "25\n",
            "1\n",
            "59\n",
            "87\n"
          ]
        }
      ]
    }
  ]
}