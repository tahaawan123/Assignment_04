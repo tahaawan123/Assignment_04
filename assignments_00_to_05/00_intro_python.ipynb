{
  "nbformat": 4,
  "nbformat_minor": 0,
  "metadata": {
    "colab": {
      "provenance": []
    },
    "kernelspec": {
      "name": "python3",
      "display_name": "Python 3"
    },
    "language_info": {
      "name": "python"
    }
  },
  "cells": [
    {
      "cell_type": "markdown",
      "source": [],
      "metadata": {
        "id": "Y4JL_CVnOkoX"
      }
    },
    {
      "cell_type": "markdown",
      "source": [
        "# **01_add_two_numbers.md**"
      ],
      "metadata": {
        "id": "NeTIFJNh04AA"
      }
    },
    {
      "cell_type": "code",
      "source": [
        "def add():\n",
        "  num=int(input(\"Enter Your First Number: \"))\n",
        "  num2=int(input(\"Enter Your Second Number\"))\n",
        "  total=num+num2\n",
        "  print(f\"The Total sum of {num} and {num2} is {total}\")\n",
        "\n",
        "if __name__==\"__main__\":\n",
        "    add()\n",
        "\n",
        "\n",
        "\n",
        "\n"
      ],
      "metadata": {
        "id": "1V9VMCiy1IlT",
        "colab": {
          "base_uri": "https://localhost:8080/"
        },
        "outputId": "aeae497b-d4b5-4367-ad9a-b66b91d83037"
      },
      "execution_count": null,
      "outputs": [
        {
          "output_type": "stream",
          "name": "stdout",
          "text": [
            "Enter Your First Number: 7\n",
            "Enter Your Second Number9\n",
            "The Total sum of 7 and 9 is 16\n"
          ]
        }
      ]
    },
    {
      "cell_type": "markdown",
      "source": [],
      "metadata": {
        "id": "VvI7dM5QA2gV"
      }
    },
    {
      "cell_type": "markdown",
      "source": [],
      "metadata": {
        "id": "syfHaVcOA4vP"
      }
    },
    {
      "cell_type": "markdown",
      "source": [
        "# **/02_agreement_bot.md**\n"
      ],
      "metadata": {
        "id": "jaJfdnfV5sAJ"
      }
    },
    {
      "cell_type": "code",
      "source": [
        "def bot():\n",
        "  animal=input(\"What their faviourte animal is?\")\n",
        "  print(f\"My faviourte animal is also {animal}!\")\n",
        "\n",
        "if __name__ == \"__main__\":\n",
        "  bot()\n"
      ],
      "metadata": {
        "colab": {
          "base_uri": "https://localhost:8080/"
        },
        "id": "PavCSCMJ594q",
        "outputId": "1901f2c8-704e-4022-fdc3-e492cbb94e94"
      },
      "execution_count": null,
      "outputs": [
        {
          "output_type": "stream",
          "name": "stdout",
          "text": [
            "What is your faviourte animal:dog\n",
            "My faviourte animal is also__dog!\n"
          ]
        }
      ]
    },
    {
      "cell_type": "markdown",
      "source": [
        "# **03_fahrenheit_to_celsius.md**"
      ],
      "metadata": {
        "id": "WFPPj4c2A6n2"
      }
    },
    {
      "cell_type": "code",
      "source": [
        "def temp():\n",
        "  fahrenheit = float(input(\"Enter Temprature in Fehrenheit \"))\n",
        "  degrees_celsius=(fahrenheit - 32) * 5.0 / 9.0\n",
        "  print(f\" The Temprature {fahrenheit}F in Celsius is {degrees_celsius}C\")\n",
        "\n",
        "if __name__ == \"__main__\":\n",
        "  temp()"
      ],
      "metadata": {
        "colab": {
          "base_uri": "https://localhost:8080/"
        },
        "id": "wP-JQguFBEKv",
        "outputId": "43d5232a-8c72-4115-f325-f9d2b007d8b7"
      },
      "execution_count": null,
      "outputs": [
        {
          "output_type": "stream",
          "name": "stdout",
          "text": [
            "Enter Temprature in Fehrenheit 50\n",
            " The Temprature 50.0F in Celsius is 10.0C\n"
          ]
        }
      ]
    },
    {
      "cell_type": "markdown",
      "source": [
        "# **04_how_old_are_they.md**"
      ],
      "metadata": {
        "id": "FHRdV2mCNM20"
      }
    },
    {
      "cell_type": "code",
      "source": [
        "def add_age():\n",
        "  anton_age:int = 21\n",
        "  beth_age:int = 6 + anton_age\n",
        "  chen_age:int = 20  + beth_age\n",
        "  drew_age:int = chen_age + anton_age\n",
        "  ethan_age :int = chen_age\n",
        "\n",
        "  print(f\"Anton is {anton_age} years old\")\n",
        "  print(f\"Beth is {beth_age} years old\")\n",
        "  print(f\"Chen is {chen_age} years old\")\n",
        "  print(f\"Drew is {drew_age} years old\")\n",
        "  print(f\"Ethan is {ethan_age} years old\")\n",
        "\n",
        "if __name__ == \"__main__\":\n",
        "  add_age()\n",
        "\n"
      ],
      "metadata": {
        "colab": {
          "base_uri": "https://localhost:8080/"
        },
        "id": "M3GFCpVVNTy6",
        "outputId": "e2122d3e-a6fb-405b-f64b-237934adeaa1"
      },
      "execution_count": null,
      "outputs": [
        {
          "output_type": "stream",
          "name": "stdout",
          "text": [
            "Anton is 21 years old\n",
            "Beth is 27 years old\n",
            "Chen is 47 years old\n",
            "Drew is 68 years old\n",
            "Ethan is 47 years old\n"
          ]
        }
      ]
    },
    {
      "cell_type": "markdown",
      "source": [
        "# **05_triangle_perimeter.md**"
      ],
      "metadata": {
        "id": "RVOUA92TXOwK"
      }
    },
    {
      "cell_type": "code",
      "source": [
        "def tiangle_length():\n",
        "  side1:float=float(input(\"Enter the length of side 1:\" ))\n",
        "  side2:float=float(input(\"Enter the length of side 2:\" ))\n",
        "  side3:float=float(input(\"Enter the length of side 3:\" ))\n",
        "\n",
        "\n",
        "  print(\"The perimeter of the triangle is\" + str(side1 + side2 + side3))\n",
        "\n",
        "if __name__ == \"__main__\":\n",
        "  tiangle_length()\n",
        "\n"
      ],
      "metadata": {
        "id": "4Na1Q7MHXVD1",
        "colab": {
          "base_uri": "https://localhost:8080/"
        },
        "outputId": "11899514-4ad1-48ca-dec8-362996004a26"
      },
      "execution_count": 1,
      "outputs": [
        {
          "output_type": "stream",
          "name": "stdout",
          "text": [
            "Enter the length of side 1:5.5\n",
            "Enter the length of side 2:4\n",
            "Enter the length of side 3:8.9\n",
            "The perimeter of the triangle is18.4\n"
          ]
        }
      ]
    },
    {
      "cell_type": "markdown",
      "source": [
        "# **06_square_number.md**"
      ],
      "metadata": {
        "id": "d4cEWwiTKKMW"
      }
    },
    {
      "cell_type": "code",
      "source": [
        "def square_number():\n",
        "  num:float=float(input(\"Type a number to its square: \"))\n",
        "  print(f\"The square of {num} is {num**2}\")\n",
        "\n",
        "\n",
        "if __name__ == \"__main__\":\n",
        "    square_number()\n"
      ],
      "metadata": {
        "colab": {
          "base_uri": "https://localhost:8080/"
        },
        "id": "--mP-wPvKNeu",
        "outputId": "3826d7bb-4253-475c-f85d-06c232efe001"
      },
      "execution_count": null,
      "outputs": [
        {
          "output_type": "stream",
          "name": "stdout",
          "text": [
            "Type a number to its square 7\n",
            "The square of 7.0 is 49.0\n"
          ]
        }
      ]
    }
  ]
}