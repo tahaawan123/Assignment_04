{
  "cells": [
    {
      "cell_type": "markdown",
      "metadata": {
        "id": "jwJg5U6Txmoc"
      },
      "source": [
        "# **1_add_many_number**"
      ]
    },
    {
      "cell_type": "code",
      "execution_count": null,
      "metadata": {
        "colab": {
          "base_uri": "https://localhost:8080/"
        },
        "id": "_ncgw3eAxpb8",
        "outputId": "5750a8d7-76bc-4b3e-efde-ad4d1fe1e626"
      },
      "outputs": [
        {
          "name": "stdout",
          "output_type": "stream",
          "text": [
            "1_add_many_number\n",
            "45\n"
          ]
        }
      ],
      "source": [
        "print(\"1_add_many_number\")\n",
        "\n",
        "\n",
        "def add_many_numbers(numbers)-> int:\n",
        "  total:int=0\n",
        "  for number in numbers:\n",
        "    total +=number\n",
        "  return total\n",
        "\n",
        "def main():\n",
        "  numbers:list[int]=[1,2,3,4,5,6,7,8,9]\n",
        "\n",
        "  sum_of_numbers:int= add_many_numbers(numbers)\n",
        "  print(sum_of_numbers)\n",
        "\n",
        "if __name__==\"__main__\":\n",
        "  main()\n"
      ]
    },
    {
      "cell_type": "markdown",
      "metadata": {
        "id": "YqBJbBfDzENC"
      },
      "source": [
        "# **02_double_list**"
      ]
    },
    {
      "cell_type": "code",
      "execution_count": null,
      "metadata": {
        "colab": {
          "base_uri": "https://localhost:8080/"
        },
        "id": "o2mtRE8RzLqs",
        "outputId": "34358991-bf21-44d2-eda9-3591d84d7ede"
      },
      "outputs": [
        {
          "name": "stdout",
          "output_type": "stream",
          "text": [
            "02_double_list\n",
            "[2, 4, 6, 8, 10]\n"
          ]
        }
      ],
      "source": [
        "print(\"02_double_list\")\n",
        "\n",
        "\n",
        "def main():\n",
        "  numbers:list[int]=[1,2,3,4,5]\n",
        "\n",
        "  for i in range(len(numbers)):\n",
        "    element_index= numbers[i]\n",
        "\n",
        "    numbers[i] = element_index * 2\n",
        "\n",
        "  print(numbers)\n",
        "\n",
        "\n",
        "\n",
        "\n",
        "\n",
        "if __name__==\"__main__\":\n",
        "  main()"
      ]
    },
    {
      "cell_type": "markdown",
      "metadata": {
        "id": "QpyHGNKIYOpj"
      },
      "source": [
        "# **04_flowing_with_data_structures**"
      ]
    },
    {
      "cell_type": "code",
      "execution_count": null,
      "metadata": {
        "colab": {
          "base_uri": "https://localhost:8080/"
        },
        "id": "sK5E80m2YaZ0",
        "outputId": "f4c63fa5-8f95-4ba2-a078-b9970b62bbe9"
      },
      "outputs": [
        {
          "name": "stdout",
          "output_type": "stream",
          "text": [
            "04_flowing_with_data_structures\n",
            "Enter a message to copy: !Hello World\n",
            "Before adding copies:  []\n",
            "After adding copies:  ['Hello World', 'Hello World', 'Hello World']\n"
          ]
        }
      ],
      "source": [
        "print(\"04_flowing_with_data_structures\")\n",
        "\n",
        "def add_three_copies(my_list, data):\n",
        "  for i in range(3):\n",
        "    my_list.append(data)\n",
        "\n",
        "def main():\n",
        "  message:str=input(\"Enter a message to copy: \")\n",
        "  my_list=[]\n",
        "  print(\"Before adding copies: \", my_list)\n",
        "  add_three_copies(my_list, message)\n",
        "  print(\"After adding copies: \", my_list)\n",
        "\n",
        "if __name__==\"__main__\":\n",
        "  main()\n"
      ]
    },
    {
      "cell_type": "markdown",
      "metadata": {
        "id": "gcgd-bWVytxH"
      },
      "source": [
        "# **05_get_first_element**"
      ]
    },
    {
      "cell_type": "code",
      "execution_count": 8,
      "metadata": {
        "colab": {
          "base_uri": "https://localhost:8080/"
        },
        "id": "bo0GE8TQyxeC",
        "outputId": "ed20d3de-5953-4db1-e543-97f5de2944c3"
      },
      "outputs": [
        {
          "output_type": "stream",
          "name": "stdout",
          "text": [
            "05_get_first_element\n",
            "Please enter an element of the list or press enter to stop. T\n",
            "Please enter an element of the list or press enter to stop. A\n",
            "Please enter an element of the list or press enter to stop. H\n",
            "Please enter an element of the list or press enter to stop. A\n",
            "Please enter an element of the list or press enter to stop. \n",
            "T\n"
          ]
        }
      ],
      "source": [
        "print(\"05_get_first_element\")\n",
        "\n",
        "\n",
        "def get_first_element(lst):\n",
        "\n",
        "  print(lst[0])\n",
        "\n",
        "def get_lst():\n",
        "  lst=[]\n",
        "  element:str=input(\"Please enter an element of the list or press enter to stop. \")\n",
        "  while element != \"\":\n",
        "    lst.append(element)\n",
        "    element=input(\"Please enter an element of the list or press enter to stop. \")\n",
        "  return lst\n",
        "\n",
        "def main():\n",
        "  lst=get_lst()\n",
        "  get_first_element(lst)\n",
        "\n",
        "if __name__==\"__main__\":\n",
        "  main()"
      ]
    },
    {
      "cell_type": "markdown",
      "source": [
        "# **06_get_last_element**"
      ],
      "metadata": {
        "id": "b7K8Lfl2Sozg"
      }
    },
    {
      "cell_type": "code",
      "source": [
        "print(\"06_get_last_element\")\n",
        "\n",
        "def get_last_element(lst):\n",
        "\n",
        "  print(lst[-1])\n",
        "\n",
        "def get_lst():\n",
        "  lst=[]\n",
        "  element:str=input(\"Please enter an element of the list or press enter to stop. \")\n",
        "  while element != \"\":\n",
        "    lst.append(element)\n",
        "    element=input(\"Please enter an element of the list or press enter to stop. \")\n",
        "  return lst\n",
        "\n",
        "def main():\n",
        "  lst=get_lst()\n",
        "  get_last_element(lst)\n",
        "\n",
        "if __name__==\"__main__\":\n",
        "  main()"
      ],
      "metadata": {
        "colab": {
          "base_uri": "https://localhost:8080/"
        },
        "id": "QCAzrAiZSrSu",
        "outputId": "05d4aed6-2760-4c10-bbc3-86e0e4be7a24"
      },
      "execution_count": 9,
      "outputs": [
        {
          "output_type": "stream",
          "name": "stdout",
          "text": [
            "06_get_last_element\n",
            "Please enter an element of the list or press enter to stop. T\n",
            "Please enter an element of the list or press enter to stop. A\n",
            "Please enter an element of the list or press enter to stop. H\n",
            "Please enter an element of the list or press enter to stop. A\n",
            "Please enter an element of the list or press enter to stop. \n",
            "A\n"
          ]
        }
      ]
    },
    {
      "cell_type": "markdown",
      "source": [
        "# **07_get_list**"
      ],
      "metadata": {
        "id": "l1jzdog8XdSx"
      }
    },
    {
      "cell_type": "code",
      "source": [
        "\n",
        "print(\"07_get_list\")\n",
        "\n",
        "\n",
        "def get_lst():\n",
        "  lst=[]\n",
        "\n",
        "  lst_value=(input(\"Enter a value: \"))\n",
        "  while lst_value :\n",
        "    lst.append(lst_value)\n",
        "    lst_value=(input(\"Enter a value: \"))\n",
        "\n",
        "  print(\"Here's a value\", lst)\n",
        "\n",
        "if __name__==\"__main__\":\n",
        "  get_lst()\n",
        "\n",
        "\n"
      ],
      "metadata": {
        "colab": {
          "base_uri": "https://localhost:8080/"
        },
        "id": "mN5OHHKbYDI3",
        "outputId": "14516b3e-af0e-47db-a8d7-ed9553bbef39"
      },
      "execution_count": 34,
      "outputs": [
        {
          "output_type": "stream",
          "name": "stdout",
          "text": [
            "07_get_list\n",
            "Enter a value: Taha\n",
            "Enter a value: Talha\n",
            "Enter a value: Ayan\n",
            "Enter a value: \n",
            "Here's a value ['Taha', 'Talha', 'Ayan']\n"
          ]
        }
      ]
    },
    {
      "cell_type": "markdown",
      "source": [
        "# **08_shorten**"
      ],
      "metadata": {
        "id": "Etrfp7XFjO0D"
      }
    },
    {
      "cell_type": "code",
      "source": [
        "print(\"08_shorten\")\n",
        "\n",
        "MAX_LENGTH:int = 3\n",
        "\n",
        "def shorten(lst):\n",
        "  while len(lst) > MAX_LENGTH:\n",
        "    remove_element = lst.pop()\n",
        "\n",
        "    print(remove_element)\n",
        "\n",
        "def get_lst():\n",
        "  lst = []\n",
        "  lst_element = input(\"Please enter an element of the list or press enter to stop. \")\n",
        "  while lst_element != \"\":\n",
        "    lst.append(lst_element)\n",
        "    lst_element = input(\"Please enter an element of the list or press enter to stop. \")\n",
        "  return lst\n",
        "\n",
        "def main():\n",
        "  lst = get_lst()\n",
        "  shorten(lst)\n",
        "\n",
        "\n",
        "\n",
        "\n",
        "if __name__==\"__main__\":\n",
        "  main()\n",
        "\n",
        "\n",
        ""
      ],
      "metadata": {
        "colab": {
          "base_uri": "https://localhost:8080/"
        },
        "id": "DMjvSDftjYGf",
        "outputId": "298ae3e3-86a3-473e-9cb7-fc6e0d7f7d65"
      },
      "execution_count": 9,
      "outputs": [
        {
          "output_type": "stream",
          "name": "stdout",
          "text": [
            "08_shorten\n",
            "Please enter an element of the list or press enter to stop. Ali\n",
            "Please enter an element of the list or press enter to stop. Awais\n",
            "Please enter an element of the list or press enter to stop. Hassan\n",
            "Please enter an element of the list or press enter to stop. Muzamil\n",
            "Please enter an element of the list or press enter to stop. Abbas\n",
            "Please enter an element of the list or press enter to stop. Talha\n",
            "Please enter an element of the list or press enter to stop. \n",
            "Talha\n",
            "Abbas\n",
            "Muzamil\n"
          ]
        }
      ]
    }
  ],
  "metadata": {
    "colab": {
      "provenance": []
    },
    "kernelspec": {
      "display_name": "Python 3",
      "name": "python3"
    },
    "language_info": {
      "name": "python"
    }
  },
  "nbformat": 4,
  "nbformat_minor": 0
}