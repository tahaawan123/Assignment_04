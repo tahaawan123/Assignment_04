{
  "nbformat": 4,
  "nbformat_minor": 0,
  "metadata": {
    "colab": {
      "provenance": []
    },
    "kernelspec": {
      "name": "python3",
      "display_name": "Python 3"
    },
    "language_info": {
      "name": "python"
    }
  },
  "cells": [
    {
      "cell_type": "code",
      "execution_count": null,
      "metadata": {
        "id": "Qs139zZsTZZq"
      },
      "outputs": [],
      "source": []
    },
    {
      "cell_type": "markdown",
      "source": [
        "# **01_dicesimulator**"
      ],
      "metadata": {
        "id": "Q5GpkhlsTgXv"
      }
    },
    {
      "cell_type": "code",
      "source": [
        "import random\n",
        "\n",
        "def roll_dice():\n",
        "\n",
        "  die1=random.randint(1,6)\n",
        "  die2=random.randint(1,6)\n",
        "\n",
        "  total:int=die1 + die2\n",
        "\n",
        "  print(f\"The totat of two dies: {total}\")\n",
        "\n",
        "def main():\n",
        "  die1:int= 6\n",
        "  print(f\"die1 in main() start as: {die1}\")\n",
        "  roll_dice()\n",
        "  roll_dice()\n",
        "  roll_dice()\n",
        "\n",
        "  print(f\"die1 in main() is: {die1}\")\n",
        "\n",
        "if __name__==\"__main__\":\n",
        "  main()\n",
        "\n"
      ],
      "metadata": {
        "colab": {
          "base_uri": "https://localhost:8080/"
        },
        "id": "z3JzMe-fU-CR",
        "outputId": "e1dac93a-1434-4c66-cac7-a3dcaec366af"
      },
      "execution_count": null,
      "outputs": [
        {
          "output_type": "stream",
          "name": "stdout",
          "text": [
            "die1 in main() start as: 6\n",
            "The totat of two dies: 10\n",
            "The totat of two dies: 6\n",
            "The totat of two dies: 4\n",
            "die1 in main() is: 6\n"
          ]
        }
      ]
    },
    {
      "cell_type": "markdown",
      "source": [
        "# **02_e=mc2.md**"
      ],
      "metadata": {
        "id": "fuca310KTZhl"
      }
    },
    {
      "cell_type": "code",
      "source": [
        "print(\"02_e=mc2\")\n",
        "\n",
        "c:int=299792458  # speed of light\n",
        "\n",
        "def energy():\n",
        "  mass:float=float(input(\"Enter kilos of mass: \"))\n",
        "\n",
        "  energy= mass * c**2   # formula calculate energy\n",
        "\n",
        "  print(\"e= m * c^2 \")\n",
        "  print(f\"m= {mass} kg \")\n",
        "  print(f\"c={c} m/s\")\n",
        "  print(f\"{energy} joules of energy\")\n",
        "\n",
        "if __name__==\"__main__\":\n",
        "  energy()"
      ],
      "metadata": {
        "colab": {
          "base_uri": "https://localhost:8080/"
        },
        "id": "nj7yF4bNTrC1",
        "outputId": "7eb4f207-7c11-422d-ff01-a85b11608584"
      },
      "execution_count": null,
      "outputs": [
        {
          "output_type": "stream",
          "name": "stdout",
          "text": [
            "02_e=mc2\n",
            "Enter kilos of mass: 550\n",
            "e= m * c^2 \n",
            "m= 550.0 kg \n",
            "c=299792458 m/s\n",
            "4.9431534830524965e+19 joules of energy\n"
          ]
        }
      ]
    },
    {
      "cell_type": "markdown",
      "source": [
        "# **03_feet_to_inches**"
      ],
      "metadata": {
        "id": "s0FGWb0dZDOw"
      }
    },
    {
      "cell_type": "code",
      "source": [
        "print(\"03_feet_to_inches\")\n",
        "\n",
        "inches_in_foot:int=12\n",
        "\n",
        "def feet_to_inches():\n",
        "  feet:float=float(input(\"Enter number of feet: \"))\n",
        "\n",
        "  inches:float=feet * inches_in_foot\n",
        "\n",
        "  print(f\"{feet} feet is {inches} inches\")\n",
        "\n",
        "if __name__==\"__main__\":\n",
        "  feet_to_inches()"
      ],
      "metadata": {
        "id": "kBajt1AZZwgn",
        "colab": {
          "base_uri": "https://localhost:8080/"
        },
        "outputId": "5637fe9a-586d-4f12-d470-e3a5c34d2fd1"
      },
      "execution_count": null,
      "outputs": [
        {
          "output_type": "stream",
          "name": "stdout",
          "text": [
            "03_feet_to_inches\n",
            "Enter number of feet: 12\n",
            "12.0 feet is 144.0 inches\n"
          ]
        }
      ]
    },
    {
      "cell_type": "markdown",
      "source": [
        "# **04_pythagorean_theorem**"
      ],
      "metadata": {
        "id": "cKTOOer1c73Q"
      }
    },
    {
      "cell_type": "code",
      "source": [
        "print(\"04_pythagorean_theorem\")\n",
        "\n",
        "\n",
        "import math\n",
        "\n",
        "def pythagorean_theorem():\n",
        "  ab:float=float(input(\"Enter value of AB: \"))\n",
        "  ac:float=float(input(\"Enter value of ac: \"))\n",
        "\n",
        "\n",
        "  bc:float=math.sqrt(ab**2 + ac**2)\n",
        "  print(f\"The value of BC is: {bc}\")\n",
        "\n",
        "if __name__==\"__main__\":\n",
        "  pythagorean_theorem()\n",
        "\n",
        "\n",
        "\n"
      ],
      "metadata": {
        "colab": {
          "base_uri": "https://localhost:8080/"
        },
        "id": "UH5pLMnCdNBS",
        "outputId": "60ae6fc0-6331-4428-ce39-fd6a82fcbf30"
      },
      "execution_count": null,
      "outputs": [
        {
          "output_type": "stream",
          "name": "stdout",
          "text": [
            "04_pythagorean_theorem\n",
            "Enter value of AB: 3\n",
            "Enter value of ac: 4\n",
            "The value of BC is: 5.0\n"
          ]
        }
      ]
    },
    {
      "cell_type": "markdown",
      "source": [
        "# **05_remainder_division**"
      ],
      "metadata": {
        "id": "fmPlu2cWmYeQ"
      }
    },
    {
      "cell_type": "code",
      "source": [
        "def remainder_division():\n",
        "  num1:int=int(input(\"Enter first number: \"))\n",
        "  num2:int=int(input(\"Enter second number: \"))\n",
        "\n",
        "  quotient:int=num1 // num2\n",
        "  remainder:int=num1 % num2\n",
        "\n",
        "  print(f\"The result of this division is {quotient} with remainder of {remainder}\")\n",
        "\n",
        "if __name__==\"__main__\":\n",
        "  remainder_division()"
      ],
      "metadata": {
        "colab": {
          "base_uri": "https://localhost:8080/"
        },
        "id": "A8qLyZkHmd2F",
        "outputId": "a8e17a9f-4e47-4d5c-f450-bf296dc5a18f"
      },
      "execution_count": null,
      "outputs": [
        {
          "output_type": "stream",
          "name": "stdout",
          "text": [
            "Enter first number: 8\n",
            "Enter second number: 3\n",
            "The result of this division is 2 with remainder of 2\n"
          ]
        }
      ]
    },
    {
      "cell_type": "markdown",
      "source": [
        "# /**06_rolldice**"
      ],
      "metadata": {
        "id": "X5RgoC6Moaz-"
      }
    },
    {
      "cell_type": "code",
      "source": [
        "print(\"06_rolldice\")\n",
        "import  random\n",
        "\n",
        "num_side:int=6\n",
        "\n",
        "def rolldice():\n",
        "  die1=random.randint(1,num_side)\n",
        "  die2=random.randint(1,num_side)\n",
        "\n",
        "  total:int= die1 + die2\n",
        "\n",
        "  print(f\"Dice have {num_side} each sides\")\n",
        "  print(f\"First die {die1}\")\n",
        "  print(f\"Second die {die2}\")\n",
        "\n",
        "  print(f\"The total of two dies: {total}\")\n",
        "\n",
        "if __name__==\"__main__\":\n",
        "  rolldice()\n",
        "\n",
        "  print\n"
      ],
      "metadata": {
        "id": "B0Xr2BFov8aD",
        "colab": {
          "base_uri": "https://localhost:8080/"
        },
        "outputId": "6026e1e7-bd66-468d-8be6-a6b460b9f7f4"
      },
      "execution_count": 1,
      "outputs": [
        {
          "output_type": "stream",
          "name": "stdout",
          "text": [
            "06_rolldice\n",
            "Dice have 6 each sides\n",
            "First die 1\n",
            "Second die 3\n",
            "The total of two dies: 4\n"
          ]
        }
      ]
    },
    {
      "cell_type": "markdown",
      "source": [
        "# **06_seconds_in_year**"
      ],
      "metadata": {
        "id": "8_ZmDfqHgw1S"
      }
    },
    {
      "cell_type": "code",
      "source": [
        "print(\"06_seconds_in_year\")\n",
        "\n",
        "days_per_year:int=365\n",
        "hrs_per_day:int=24\n",
        "min_per_hr:int=60\n",
        "sec_per_min:int=60\n",
        "\n",
        "def seconds_in_year():\n",
        "  print(\"There are \" + str( days_per_year * hrs_per_day * min_per_hr * sec_per_min) +\" seconds in a year\")\n",
        "\n",
        "if __name__==\"__main__\":\n",
        "  seconds_in_year()\n"
      ],
      "metadata": {
        "colab": {
          "base_uri": "https://localhost:8080/"
        },
        "id": "qfIoEFsdg2xj",
        "outputId": "0a96ba0d-1d3f-444d-beaf-b194716f7bab"
      },
      "execution_count": 12,
      "outputs": [
        {
          "output_type": "stream",
          "name": "stdout",
          "text": [
            "06_seconds_in_year\n",
            "There are 31536000 seconds in a year\n"
          ]
        }
      ]
    },
    {
      "cell_type": "markdown",
      "source": [
        "# **07_tiny_mad_lib**"
      ],
      "metadata": {
        "id": "t6BNIcXCjoQO"
      }
    },
    {
      "cell_type": "code",
      "source": [
        "print(\"07_tiny_mad_lib\")\n",
        "\n",
        "sentence_start:str=\"Code in Place is fun. I learned to program and used Python to make my\"\n",
        "\n",
        "\n",
        "def tiny_mad_lib():\n",
        "  adjective:str=input(\"Please type an adjective and press enter: \")\n",
        "  noun:str=input(\"Please type a noun and press enter: \")\n",
        "  verb:str=input(\"Please type a verb and press enter: \")\n",
        "\n",
        "  print(sentence_start + \" \" + adjective + \" \" + noun + \" \" + verb + \"!\")\n",
        "\n",
        "if __name__==\"__main__\":\n",
        "  tiny_mad_lib()"
      ],
      "metadata": {
        "colab": {
          "base_uri": "https://localhost:8080/"
        },
        "id": "PXQ6HyEKjxqh",
        "outputId": "f32fea5d-16c3-422b-c4b8-c5da1646a780"
      },
      "execution_count": 14,
      "outputs": [
        {
          "output_type": "stream",
          "name": "stdout",
          "text": [
            "07_tiny_mad_lib\n",
            "Please type an adjective and press enter: tiny\n",
            "Please type a noun and press enter: Plant\n",
            "Please type a verb and press enter: fly\n",
            "Code in Place is fun. I learned to program and used Python to make my tiny Plant fly!\n"
          ]
        }
      ]
    }
  ]
}