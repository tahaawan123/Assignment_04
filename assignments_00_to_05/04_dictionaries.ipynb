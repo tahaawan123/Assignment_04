{
  "nbformat": 4,
  "nbformat_minor": 0,
  "metadata": {
    "colab": {
      "provenance": []
    },
    "kernelspec": {
      "name": "python3",
      "display_name": "Python 3"
    },
    "language_info": {
      "name": "python"
    }
  },
  "cells": [
    {
      "cell_type": "markdown",
      "source": [
        "# **04_dictionaries**\n"
      ],
      "metadata": {
        "id": "GB-U1d4OkoQ6"
      }
    },
    {
      "cell_type": "code",
      "source": [
        "print(\"00_count_nums\")\n",
        "\n",
        "def count_numbers():\n",
        "  count_dict={}\n",
        "\n",
        "\n",
        "  while True:\n",
        "    num =input(\"Enter a number (or Exit to quit): \")\n",
        "    if num.lower() == \"Exit\":\n",
        "      break\n",
        "\n",
        "\n",
        "    if num.isdigit():\n",
        "      num = int(num)\n",
        "      count_dict[num] = count_dict.get(num, 0) + 1\n",
        "      print(count_dict)\n",
        "    else:\n",
        "      print(\"Invalid input, Please enter a number or 'Exit' . \")\n",
        "\n",
        "\n",
        "      return count_dict\n",
        "\n",
        "def display_counts(count_dict):\n",
        "  print(\"\\nNumber counts:\")\n",
        "  for key, value in count_dict.items():\n",
        "    print(f\"{key} appears {value} times\")\n",
        "\n",
        "\n",
        "\n",
        "\n",
        "\n",
        "\n",
        "3\n",
        "if __name__ == \"__main__\":\n",
        " counts = count_numbers()\n",
        " display_counts(counts)\n"
      ],
      "metadata": {
        "id": "Ywo6jEjWkwUJ",
        "colab": {
          "base_uri": "https://localhost:8080/"
        },
        "outputId": "2cacd2f9-0e94-4a75-f05c-3dfb00a3534a"
      },
      "execution_count": null,
      "outputs": [
        {
          "output_type": "stream",
          "name": "stdout",
          "text": [
            "00_count_nums\n",
            "Enter a number (or Exit to quit): 3\n",
            "{3: 1}\n",
            "Enter a number (or Exit to quit): 3\n",
            "{3: 2}\n",
            "Enter a number (or Exit to quit): 4\n",
            "{3: 2, 4: 1}\n",
            "Enter a number (or Exit to quit): 5\n",
            "{3: 2, 4: 1, 5: 1}\n",
            "Enter a number (or Exit to quit): 5\n",
            "{3: 2, 4: 1, 5: 2}\n",
            "Enter a number (or Exit to quit): \n",
            "Invalid input, Please enter a number or 'Exit' . \n",
            "\n",
            "Number counts:\n",
            "3 appears 2 times\n",
            "4 appears 1 times\n",
            "5 appears 2 times\n"
          ]
        }
      ]
    },
    {
      "cell_type": "markdown",
      "source": [
        "# **01_phonebook**"
      ],
      "metadata": {
        "id": "AMK6DzcHDolC"
      }
    },
    {
      "cell_type": "code",
      "source": [
        "print(\"01_phonebook\")\n",
        "\n",
        "\n",
        "def read_phone_numbers():\n",
        "  phonebook = {}\n",
        "\n",
        "  while True:\n",
        "    name = input(\"Enter Name: \")\n",
        "    if name == \"\":\n",
        "      break\n",
        "\n",
        "\n",
        "\n",
        "    number = input(\"Enter Number: \")\n",
        "    phonebook[name] = number\n",
        "\n",
        "  return phonebook\n",
        "\n",
        "def print_phonebook(phonebook):\n",
        "\n",
        "  for name in phonebook:\n",
        "    print(f\"{name} -> {phonebook[name]}\")\n",
        "\n",
        "\n",
        "def lookup_numbers(phonebook):\n",
        "\n",
        "\n",
        "  while True:\n",
        "    name = input(\"Enter Name to lookup: \")\n",
        "    if name == \"\":\n",
        "      break\n",
        "\n",
        "\n",
        "\n",
        "    if name not in phonebook:\n",
        "        print(f\"{name} not found in phonebook\")\n",
        "    else:\n",
        "        print( phonebook[name])\n",
        "\n",
        "\n",
        "def main():\n",
        "  phonebook = read_phone_numbers()\n",
        "  print_phonebook(phonebook)\n",
        "  lookup_numbers(phonebook)\n",
        "\n",
        "\n",
        "if __name__ == \"__main__\":\n",
        "  main()\n",
        "\n",
        "\n",
        "\n",
        "\n",
        "\n"
      ],
      "metadata": {
        "colab": {
          "base_uri": "https://localhost:8080/"
        },
        "id": "YypzjrV0DrD8",
        "outputId": "a19c94e4-c037-4e2d-e577-df234cac6181"
      },
      "execution_count": null,
      "outputs": [
        {
          "name": "stdout",
          "output_type": "stream",
          "text": [
            "01_phonebook\n",
            "Enter Name: taha\n",
            "Enter Number: 03082520161\n",
            "Enter Name: awais\n",
            "Enter Number: 03062520675\n",
            "Enter Name: \n",
            "taha -> 03082520161\n",
            "awais -> 03062520675\n",
            "Enter Name to lookup: taha\n",
            "03082520161\n",
            "Enter Name to lookup: ali\n",
            "ali not found in phonebook\n",
            "Enter Name to lookup: \n"
          ]
        }
      ]
    },
    {
      "cell_type": "markdown",
      "source": [
        "# **02_pop_up_shop**"
      ],
      "metadata": {
        "id": "iGepH4CRgyCX"
      }
    },
    {
      "cell_type": "code",
      "source": [
        "print(\"02_pop_up_shop\")\n",
        "\n",
        "def fruits_shop():\n",
        "  fruit_prices={\n",
        "      \"mango\":20,\n",
        "      \"apple\":10,\n",
        "      \"orange\":50,\n",
        "      \"kiwi\":80,\n",
        "      \"durian\":100\n",
        "\n",
        "  }\n",
        "\n",
        "  total_cost:int= 0\n",
        "\n",
        "  for fruit in fruit_prices:\n",
        "    quantity=int(input(f\"How many {fruit} do you want to buy?: \"))\n",
        "    total_cost += quantity * fruit_prices[fruit]\n",
        "\n",
        "\n",
        "\n",
        "  print(f\"Your total  is ${total_cost}\")\n",
        "\n",
        "\n",
        "if __name__ == \"__main__\":\n",
        "  fruits_shop()\n",
        "\n",
        "\n"
      ],
      "metadata": {
        "colab": {
          "base_uri": "https://localhost:8080/"
        },
        "id": "OdEaP4DLhA_z",
        "outputId": "2d255110-1bbb-442e-e81b-b8cbf9a7686e"
      },
      "execution_count": null,
      "outputs": [
        {
          "output_type": "stream",
          "name": "stdout",
          "text": [
            "02_pop_up_shop\n",
            "How many mango do you want to buy?: 4\n",
            "How many apple do you want to buy?: 2\n",
            "How many orange do you want to buy?: 1\n",
            "How many kiwi do you want to buy?: 3\n",
            "How many durian do you want to buy?: 2\n",
            "Your total  is $590\n"
          ]
        }
      ]
    },
    {
      "cell_type": "markdown",
      "source": [
        "# **03_powerful_passwords**"
      ],
      "metadata": {
        "id": "6Phji_uZv3p7"
      }
    },
    {
      "cell_type": "code",
      "source": [
        "import hashlib\n",
        "print(\"03_powerful_passwords\")\n",
        "\n",
        "\n",
        "def hash_password(password):\n",
        "  return hashlib.sha256(password.encode()).hexdigest()\n",
        "\n",
        "stored_logins = {\n",
        "    \"user@example.com\" : hash_password(\"password123\"),\n",
        "    \"admin@example.com\" : hash_password(\"adminpassword\")\n",
        "}\n",
        "\n",
        "\n",
        "def login(email,password):\n",
        "  if email in stored_logins:\n",
        "    return stored_logins[email] == hash_password(password)\n",
        "  return False\n",
        "\n",
        "\n",
        "if __name__ == \"__main__\":\n",
        "  email =input(\"Enter your email: \")\n",
        "  password = input(\"Enter your password: \")\n",
        "\n",
        "\n",
        "  if login(email,password):\n",
        "    print(\"Login successful\")\n",
        "  else:\n",
        "    print(\"Invalid email or password.\")\n",
        "\n"
      ],
      "metadata": {
        "colab": {
          "base_uri": "https://localhost:8080/"
        },
        "id": "tykSFqNhwDUv",
        "outputId": "deded113-ac8f-417c-d45b-7248be9d05d0"
      },
      "execution_count": 16,
      "outputs": [
        {
          "output_type": "stream",
          "name": "stdout",
          "text": [
            "03_powerful_passwords\n",
            "Enter your email: user@example.com\n",
            "Enter your password: password123\n",
            "Login successful\n"
          ]
        }
      ]
    }
  ]
}