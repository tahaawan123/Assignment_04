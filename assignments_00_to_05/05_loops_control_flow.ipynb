{
  "cells": [
    {
      "cell_type": "code",
      "execution_count": null,
      "metadata": {
        "colab": {
          "base_uri": "https://localhost:8080/"
        },
        "id": "54JAW30d5rot",
        "outputId": "34b77676-3d4f-486c-dc17-941015ec197a"
      },
      "outputs": [
        {
          "output_type": "stream",
          "name": "stdout",
          "text": [
            "00_guess_my_number\n",
            "I am thinking of a number between 1 and 99...\n",
            "Enter a guess: 80\n",
            "Your guess is too High!\n",
            "\n",
            "Enter a guess: 70\n",
            "Your guess is too low!\n",
            "\n",
            "Enter a guess: 85\n",
            "Your guess is too High!\n",
            "\n",
            "Enter a guess: 75\n",
            "Your guess is too High!\n",
            "\n",
            "Enter a guess: 73\n",
            "Your guess is too High!\n",
            "\n",
            "Enter a guess: 71\n",
            "Congratulations! You got it!71\n"
          ]
        }
      ],
      "source": [
        "import random\n",
        "\n",
        "print(\"00_guess_my_number\")\n",
        "\n",
        "\n",
        "def guess_number():\n",
        "\n",
        "  secret_number = random.randint(1,99)\n",
        "  print(\"I am thinking of a number between 1 and 99...\")\n",
        "\n",
        "\n",
        "  guess= int(input(\"Enter a guess: \"))\n",
        "\n",
        "  while guess != secret_number:\n",
        "    if guess < secret_number:\n",
        "      print(\"Your guess is too low!\")\n",
        "    else:\n",
        "      print(\"Your guess is too High!\")\n",
        "\n",
        "\n",
        "    print()\n",
        "    guess = int(input(\"Enter a guess: \"))\n",
        "\n",
        "  print(\"Congratulations! You got it!\"+ str(secret_number))\n",
        "\n",
        "if __name__ == \"__main__\":\n",
        "  guess_number()\n",
        "\n",
        "\n",
        "\n",
        "\n"
      ]
    },
    {
      "cell_type": "markdown",
      "source": [
        "# **01_fibonacci**"
      ],
      "metadata": {
        "id": "6GB1ut-gevkT"
      }
    },
    {
      "cell_type": "code",
      "source": [
        "print(\"01_fibonacci\")\n",
        "\n",
        "\n",
        "MAX_TERM_VALUE:int= 10000\n",
        "\n",
        "def fibonacci ():\n",
        "  curr_term = 0\n",
        "  next_term = 1\n",
        "\n",
        "  while curr_term <= MAX_TERM_VALUE:\n",
        "    print(curr_term)\n",
        "\n",
        "    term_after_next = curr_term + next_term\n",
        "\n",
        "    curr_term = next_term\n",
        "\n",
        "    next_term =term_after_next\n",
        "\n",
        "if __name__ == \"__main__\":\n",
        "  fibonacci()\n",
        "\n",
        "\n"
      ],
      "metadata": {
        "colab": {
          "base_uri": "https://localhost:8080/"
        },
        "id": "TKYTRJV7exZJ",
        "outputId": "3eaaf7ee-4d25-4203-9069-08f0bb37a835"
      },
      "execution_count": null,
      "outputs": [
        {
          "output_type": "stream",
          "name": "stdout",
          "text": [
            "01_fibonacci\n",
            "0\n",
            "1\n",
            "1\n",
            "2\n",
            "3\n",
            "5\n",
            "8\n",
            "13\n",
            "21\n",
            "34\n",
            "55\n",
            "89\n",
            "144\n",
            "233\n",
            "377\n",
            "610\n",
            "987\n",
            "1597\n",
            "2584\n",
            "4181\n",
            "6765\n"
          ]
        }
      ]
    },
    {
      "cell_type": "markdown",
      "source": [
        "# **02_print_events**"
      ],
      "metadata": {
        "id": "GdHoVyW1EmIX"
      }
    },
    {
      "cell_type": "code",
      "source": [
        "print(\"02_print_events\")\n",
        "\n",
        "\n",
        "\n",
        "def even_num():\n",
        "\n",
        "\n",
        "  for num in range(20):\n",
        "    print(num * 2)\n",
        "\n",
        "\n",
        "if __name__== \"__main__\":\n",
        "  even_num()"
      ],
      "metadata": {
        "colab": {
          "base_uri": "https://localhost:8080/"
        },
        "id": "LDFFnp_PEtzO",
        "outputId": "5acc1167-5b8e-48fe-c9e3-40374318a106"
      },
      "execution_count": null,
      "outputs": [
        {
          "output_type": "stream",
          "name": "stdout",
          "text": [
            "02_print_events\n",
            "0\n",
            "2\n",
            "4\n",
            "6\n",
            "8\n",
            "10\n",
            "12\n",
            "14\n",
            "16\n",
            "18\n",
            "20\n",
            "22\n",
            "24\n",
            "26\n",
            "28\n",
            "30\n",
            "32\n",
            "34\n",
            "36\n",
            "38\n"
          ]
        }
      ]
    },
    {
      "cell_type": "markdown",
      "source": [
        "# **03_wholesome_machine**"
      ],
      "metadata": {
        "id": "dhFcNRccFT_V"
      }
    },
    {
      "cell_type": "code",
      "source": [
        "print(\"03_wholesome_machine\")\n",
        "\n",
        "\n",
        "AFFIRMATION : str = \"I am capable of doing anything  I put  my mind to.\"\n",
        "\n",
        "\n",
        "def affir_sen():\n",
        "  print(\"Please type the following affirmation: \" + AFFIRMATION)\n",
        "\n",
        "  user_feedback = input()\n",
        "  while user_feedback != AFFIRMATION:\n",
        "    print(\"That was not Affirmaton. \")\n",
        "\n",
        "\n",
        "    print(\"Please type the following affirmation: \" + AFFIRMATION)\n",
        "\n",
        "    user_feedback = input()\n",
        "\n",
        "  print(\"Thank you for your feedback!\")\n",
        "\n",
        "if __name__ == \"__main__\":\n",
        "  affir_sen()\n",
        "\n",
        "\n"
      ],
      "metadata": {
        "colab": {
          "base_uri": "https://localhost:8080/"
        },
        "id": "oIZWB_I0FZkp",
        "outputId": "1df6a99b-1d8c-4853-e1ab-f008a7129f7f"
      },
      "execution_count": null,
      "outputs": [
        {
          "output_type": "stream",
          "name": "stdout",
          "text": [
            "03_wholesome_machine\n",
            "Please type the following affirmation: I am capable of doing anything  I put  my mind to.\n",
            "I am capable of doing anything\n",
            "That was not Affirmaton. \n",
            "Please type the following affirmation: I am capable of doing anything  I put  my mind to.\n",
            "I am capable of doing anything I put my mind to.\n",
            "That was not Affirmaton. \n",
            "Please type the following affirmation: I am capable of doing anything  I put  my mind to.\n",
            "I am capable of doing anything  I put  my mind to.\n",
            "Thank you for your feedback!\n"
          ]
        }
      ]
    },
    {
      "cell_type": "markdown",
      "source": [
        "# **04_liftoff**"
      ],
      "metadata": {
        "id": "gnaF_fesLn_C"
      }
    },
    {
      "cell_type": "code",
      "source": [
        "print(\"04_liftoff\")\n",
        "\n",
        "def count_down():\n",
        "\n",
        "  for i in range(10, 0 , -1):\n",
        "    print(i)\n",
        "    if i == 1:\n",
        "      print(\"Liftoff! 😉\")\n",
        "\n",
        "\n",
        "\n",
        "\n",
        "if __name__ == \"__main__\":\n",
        "  count_down()"
      ],
      "metadata": {
        "colab": {
          "base_uri": "https://localhost:8080/"
        },
        "id": "Kok7v1i3LtoL",
        "outputId": "80557b8a-83ab-4421-8919-465c3eac750e"
      },
      "execution_count": null,
      "outputs": [
        {
          "output_type": "stream",
          "name": "stdout",
          "text": [
            "04_liftoff\n",
            "10\n",
            "9\n",
            "8\n",
            "7\n",
            "6\n",
            "5\n",
            "4\n",
            "3\n",
            "2\n",
            "1\n",
            "Liftoff! 😉\n"
          ]
        }
      ]
    },
    {
      "cell_type": "markdown",
      "source": [
        "# **05_double_it**"
      ],
      "metadata": {
        "id": "dEuNID9TSVn3"
      }
    },
    {
      "cell_type": "code",
      "source": [
        "print(\"05_double_it\")\n",
        "\n",
        "\n",
        "def double_num():\n",
        "\n",
        "  curr_value: int = int(input(\"Enter a number: \"))\n",
        "  while curr_value < 100:\n",
        "    curr_value = curr_value * 2\n",
        "    print(curr_value)\n",
        "\n",
        "if __name__ == \"__main__\":\n",
        "  double_num()\n",
        "\n"
      ],
      "metadata": {
        "colab": {
          "base_uri": "https://localhost:8080/"
        },
        "id": "T1z3zT7AScwG",
        "outputId": "ccf652c3-08ba-43d0-fb56-d68f93b59fd4"
      },
      "execution_count": 38,
      "outputs": [
        {
          "output_type": "stream",
          "name": "stdout",
          "text": [
            "05_double_it\n",
            "Enter a number: 6\n",
            "12\n",
            "24\n",
            "48\n",
            "96\n",
            "192\n"
          ]
        }
      ]
    }
  ],
  "metadata": {
    "colab": {
      "provenance": []
    },
    "kernelspec": {
      "display_name": "Python 3",
      "name": "python3"
    },
    "language_info": {
      "name": "python"
    }
  },
  "nbformat": 4,
  "nbformat_minor": 0
}