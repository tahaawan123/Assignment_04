{
  "nbformat": 4,
  "nbformat_minor": 0,
  "metadata": {
    "colab": {
      "provenance": []
    },
    "kernelspec": {
      "name": "python3",
      "display_name": "Python 3"
    },
    "language_info": {
      "name": "python"
    }
  },
  "cells": [
    {
      "cell_type": "code",
      "execution_count": 7,
      "metadata": {
        "colab": {
          "base_uri": "https://localhost:8080/"
        },
        "id": "PTnGC7jB6snA",
        "outputId": "bc9b5aba-3784-466c-fe83-64ac0e5cba15"
      },
      "outputs": [
        {
          "output_type": "stream",
          "name": "stdout",
          "text": [
            "High Low Game\n",
            "Welcome to the High-Low Game!\n",
            "*******************************\n",
            "Round 0\n",
            "Your Number is 66\n",
            "Do you think your number is higher or lower than the computer's?: higher\n",
            "You were right! The computer's number was 53\n",
            "Your score is now 1\n",
            "\n",
            "Round 1\n",
            "Your Number is 78\n",
            "Do you think your number is higher or lower than the computer's?: lower\n",
            "Aww, that's incorrect. The computer's number was 28\n",
            "Your score is now 1\n",
            "\n",
            "Round 2\n",
            "Your Number is 86\n",
            "Do you think your number is higher or lower than the computer's?: higher\n",
            "You were right! The computer's number was 84\n",
            "Your score is now 2\n",
            "\n",
            "Round 3\n",
            "Your Number is 61\n",
            "Do you think your number is higher or lower than the computer's?: loer\n",
            "Aww, that's incorrect. The computer's number was 73\n",
            "Your score is now 2\n",
            "\n",
            "Round 4\n",
            "Your Number is 87\n",
            "Do you think your number is higher or lower than the computer's?: higher\n",
            "You were right! The computer's number was 12\n",
            "Your score is now 3\n",
            "\n",
            "Game Over! Thanks for Playing\n"
          ]
        }
      ],
      "source": [
        "print(\"High Low Game\")\n",
        "\n",
        "import random\n",
        "\n",
        "total_rounds = 5\n",
        "\n",
        "def main():\n",
        "  print(\"Welcome to the High-Low Game!\")\n",
        "  print(\"*******************************\")\n",
        "\n",
        "  your_score = 0\n",
        "\n",
        "  for i in range(total_rounds):\n",
        "    print(f\"Round {i}\")\n",
        "\n",
        "\n",
        "    computer_number = random.randint(1, 100)\n",
        "    your_number =random.randint(1, 100)\n",
        "    print(f\"Your Number is\", your_number)\n",
        "\n",
        "    choice : str = input(\"Do you think your number is higher or lower than the computer's?: \")\n",
        "\n",
        "    higher_and_correct : bool = choice == \"higher\" and your_number > computer_number\n",
        "    lower_and_correct : bool = choice == \"lower\" and your_number < computer_number\n",
        "\n",
        "\n",
        "    if higher_and_correct or lower_and_correct:\n",
        "      print(\"You were right! The computer's number was\", computer_number)\n",
        "\n",
        "      your_score += 1\n",
        "\n",
        "    else :\n",
        "      print(\"Aww, that's incorrect. The computer's number was\", computer_number)\n",
        "\n",
        "    print(\"Your score is now\", your_score)\n",
        "    print()\n",
        "\n",
        "  print(\"Game Over! Thanks for Playing\")\n",
        "\n",
        "if __name__ == \"__main__\":\n",
        "  main()\n"
      ]
    }
  ]
}