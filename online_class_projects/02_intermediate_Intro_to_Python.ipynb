{
  "nbformat": 4,
  "nbformat_minor": 0,
  "metadata": {
    "colab": {
      "provenance": []
    },
    "kernelspec": {
      "name": "python3",
      "display_name": "Python 3"
    },
    "language_info": {
      "name": "python"
    }
  },
  "cells": [
    {
      "cell_type": "markdown",
      "source": [
        "# **Planetary Weight Calculator**\n",
        "\n",
        "---\n",
        "\n"
      ],
      "metadata": {
        "id": "N2Ol-IqvOTCt"
      }
    },
    {
      "cell_type": "code",
      "execution_count": 4,
      "metadata": {
        "id": "96jemOmBNJdY",
        "colab": {
          "base_uri": "https://localhost:8080/"
        },
        "outputId": "960de778-95d3-41a6-ac83-537c4541c63b"
      },
      "outputs": [
        {
          "output_type": "stream",
          "name": "stdout",
          "text": [
            "Planetary Weight Calculator\n",
            "Enter your weight on Earth: 34\n",
            "\n",
            " Select Planet\n",
            "- Mercury\n",
            "- Venus\n",
            "- Mars\n",
            "- Jupiter\n",
            "- Saturn\n",
            "- Uranus\n",
            "- Neptune\n",
            "Enter the name of the planet: venus\n",
            "Your weight on Venusis 30.94 kg\n",
            "Welcome to the Planetary weight calculator\n",
            "*********************************************\n"
          ]
        }
      ],
      "source": [
        "print(\"Planetary Weight Calculator\")\n",
        "\n",
        "\n",
        "\n",
        "def main():\n",
        "  print(\"Welcome to the Planetary weight calculator\")\n",
        "\n",
        "  print(\"*********************************************\")\n",
        "\n",
        "earth_weight = float(input(\"Enter your weight on Earth: \"))\n",
        "\n",
        "gravity_ratios = {\n",
        "    \"Mercury\": 0.38,\n",
        "    \"Venus\": 0.91,\n",
        "    \"Mars\": 0.38,\n",
        "    \"Jupiter\": 2.34,\n",
        "    \"Saturn\": 0.93,\n",
        "    \"Uranus\": 0.92,\n",
        "    \"Neptune\": 1.1\n",
        "}\n",
        "\n",
        "print(\"\\n Select Planet\")\n",
        "for planet in gravity_ratios:\n",
        "    print(f\"- {planet}\")\n",
        "\n",
        "\n",
        "planet_choice = input(\"Enter the name of the planet: \").title()\n",
        "\n",
        "\n",
        "if planet_choice in gravity_ratios:\n",
        "\n",
        "    planetary_weight = earth_weight * gravity_ratios[planet_choice]\n",
        "    print(f\"Your weight on {planet_choice}is {planetary_weight:.2f} kg\")\n",
        "\n",
        "\n",
        "else:\n",
        "  print(\"Inavlid Planet choice\")\n",
        "\n",
        "if __name__ == \"__main__\":\n",
        "  main()\n",
        "\n",
        "\n",
        "\n"
      ]
    }
  ]
}