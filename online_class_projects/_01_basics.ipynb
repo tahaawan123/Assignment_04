{
  "nbformat": 4,
  "nbformat_minor": 0,
  "metadata": {
    "colab": {
      "provenance": []
    },
    "kernelspec": {
      "name": "python3",
      "display_name": "Python 3"
    },
    "language_info": {
      "name": "python"
    }
  },
  "cells": [
    {
      "cell_type": "markdown",
      "source": [
        "# **00_joke_bot**"
      ],
      "metadata": {
        "id": "c5jfLyM6ZKHK"
      }
    },
    {
      "cell_type": "code",
      "source": [
        "print(\"00_joke_bot\")\n",
        "\n",
        "\n",
        "PROMPT : str = \"What do you want ?\"\n",
        "JOKE :str = \"Why did the computer go to therapy? \\n Because it had too many bytes from its past! 💻🛋️\"\n",
        "SORRY:str = \"Sorry I only tell jokes\"\n",
        "\n",
        "def joke_bot():\n",
        "\n",
        "  user_input = input(PROMPT)\n",
        "\n",
        "\n",
        "  user_input = user_input.strip().lower()\n",
        "\n",
        "  if \"joke\" in user_input:\n",
        "    print(JOKE)\n",
        "  else:\n",
        "    print(SORRY)\n",
        "\n",
        "if __name__ == \"__main__\":\n",
        "  joke_bot()\n"
      ],
      "metadata": {
        "colab": {
          "base_uri": "https://localhost:8080/"
        },
        "id": "1rCD6mxuZLl6",
        "outputId": "406c1dc3-f0ee-4132-9201-57e4780de61c"
      },
      "execution_count": 4,
      "outputs": [
        {
          "output_type": "stream",
          "name": "stdout",
          "text": [
            "00_joke_bot\n",
            "What do you want ?joke\n",
            "Why did the computer go to therapy? \n",
            " Because it had too many bytes from its past! 💻🛋️\n"
          ]
        }
      ]
    },
    {
      "cell_type": "markdown",
      "source": [
        "***01_double_it***"
      ],
      "metadata": {
        "id": "k8AsaRxxhb5k"
      }
    },
    {
      "cell_type": "code",
      "source": [
        "print(\"01_double_it\")\n",
        "\n",
        "\n",
        "\n",
        "\n",
        "def double_num():\n",
        "\n",
        "  curr_value: int = int(input(\"Enter a number: \"))\n",
        "  while curr_value < 100:\n",
        "    curr_value = curr_value * 2\n",
        "    print(curr_value)\n",
        "\n",
        "if __name__ == \"__main__\":\n",
        "  double_num()"
      ],
      "metadata": {
        "colab": {
          "base_uri": "https://localhost:8080/"
        },
        "id": "fKgCABy5hkzr",
        "outputId": "e258c181-b02b-418c-993a-67f45a4dd903"
      },
      "execution_count": 5,
      "outputs": [
        {
          "output_type": "stream",
          "name": "stdout",
          "text": [
            "01_double_it\n",
            "Enter a number: 5\n",
            "10\n",
            "20\n",
            "40\n",
            "80\n",
            "160\n"
          ]
        }
      ]
    },
    {
      "cell_type": "markdown",
      "source": [
        "# **02_liftoff**"
      ],
      "metadata": {
        "id": "nT9jSnVgjEtW"
      }
    },
    {
      "cell_type": "code",
      "source": [
        "print(\"02_liftoff\")\n",
        "\n",
        "def count_down():\n",
        "\n",
        "  for i in range(10):\n",
        "    print(random.randint(1, 100))\n",
        "\n",
        "\n",
        "\n",
        "\n",
        "\n",
        "if __name__ == \"__main__\":\n",
        "  count_down()"
      ],
      "metadata": {
        "colab": {
          "base_uri": "https://localhost:8080/"
        },
        "id": "CDp13yHejK4z",
        "outputId": "7232afb3-303d-4107-bc65-9f53f7914b42"
      },
      "execution_count": 10,
      "outputs": [
        {
          "output_type": "stream",
          "name": "stdout",
          "text": [
            "02_liftoff\n",
            "2\n",
            "90\n",
            "87\n",
            "20\n",
            "46\n",
            "10\n",
            "93\n",
            "31\n",
            "37\n",
            "8\n"
          ]
        }
      ]
    },
    {
      "cell_type": "markdown",
      "source": [
        "# **03_guess_my_number**"
      ],
      "metadata": {
        "id": "fZZdd_U0jfoK"
      }
    },
    {
      "cell_type": "code",
      "source": [
        "import random\n",
        "\n",
        "print(\"03_guess_my_number\")\n",
        "\n",
        "\n",
        "def guess_number():\n",
        "\n",
        "  secret_number = random.randint(1,99)\n",
        "  print(\"I am thinking of a number between 1 and 99...\")\n",
        "\n",
        "\n",
        "  guess= int(input(\"Enter a guess: \"))\n",
        "\n",
        "  while guess != secret_number:\n",
        "    if guess < secret_number:\n",
        "      print(\"Your guess is too low!\")\n",
        "    else:\n",
        "      print(\"Your guess is too High!\")\n",
        "\n",
        "\n",
        "    print()\n",
        "    guess = int(input(\"Enter a guess: \"))\n",
        "\n",
        "  print(\"Congratulations! You got it!\"+ str(secret_number))\n",
        "\n",
        "if __name__ == \"__main__\":\n",
        "  guess_number()"
      ],
      "metadata": {
        "colab": {
          "base_uri": "https://localhost:8080/"
        },
        "id": "tZphSQiujlOQ",
        "outputId": "66f31d5a-6d1e-4893-ad4d-2b88379abd10"
      },
      "execution_count": 7,
      "outputs": [
        {
          "output_type": "stream",
          "name": "stdout",
          "text": [
            "03_guess_my_number\n",
            "I am thinking of a number between 1 and 99...\n",
            "Enter a guess: 56\n",
            "Your guess is too High!\n",
            "\n",
            "Enter a guess: 50\n",
            "Your guess is too High!\n",
            "\n",
            "Enter a guess: 40\n",
            "Your guess is too low!\n",
            "\n",
            "Enter a guess: 45\n",
            "Congratulations! You got it!45\n"
          ]
        }
      ]
    },
    {
      "cell_type": "markdown",
      "source": [
        "# **04_random_numbers**"
      ],
      "metadata": {
        "id": "DbpuDJ8Uj5y8"
      }
    },
    {
      "cell_type": "code",
      "source": [
        "print(\"04_random_numbers\")\n",
        "import random\n",
        "\n",
        "\n",
        "N_NUMBERS:int = 10\n",
        "MIN_NUM:int = 1\n",
        "MAX_NUM:int = 100\n",
        "\n",
        "def random_numbers():\n",
        "\n",
        "  for _ in range(N_NUMBERS):\n",
        "    print(random.randint(MIN_NUM, MAX_NUM))\n",
        "\n",
        "if __name__ == \"__main__\":\n",
        "  random_numbers()\n"
      ],
      "metadata": {
        "colab": {
          "base_uri": "https://localhost:8080/"
        },
        "id": "LM7GDjOPkg4a",
        "outputId": "822ae7ef-fda5-439b-f059-f2c0c18e85c0"
      },
      "execution_count": 8,
      "outputs": [
        {
          "output_type": "stream",
          "name": "stdout",
          "text": [
            "04_random_numbers\n",
            "14\n",
            "25\n",
            "95\n",
            "68\n",
            "82\n",
            "33\n",
            "79\n",
            "24\n",
            "38\n",
            "22\n"
          ]
        }
      ]
    }
  ]
}